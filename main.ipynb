{
 "cells": [
  {
   "cell_type": "code",
   "execution_count": 20,
   "metadata": {},
   "outputs": [],
   "source": [
    "#import libraries\n",
    "import os\n",
    "import nltk\n",
    "from nltk import bigrams\n",
    "from collections import Counter, defaultdict\n",
    "import pandas as pd\n",
    "import numpy as np"
   ]
  },
  {
   "cell_type": "code",
   "execution_count": 21,
   "metadata": {},
   "outputs": [],
   "source": [
    "# read text files from a directory\n",
    "def read_text_files(directory):\n",
    "    files = [os.path.join(directory, f) for f in os.listdir(directory) if f.endswith('.txt')]\n",
    "    texts = {}\n",
    "    for file in files:\n",
    "        with open(file, 'r', encoding='utf-8') as f:\n",
    "            text = f.read()\n",
    "            text = text.lower().replace('\\n', ' ')      # Lowercase and remove newlines\n",
    "            texts[file] = text\n",
    "    return texts"
   ]
  },
  {
   "cell_type": "code",
   "execution_count": 22,
   "metadata": {},
   "outputs": [],
   "source": [
    "# tokenize and extract bigrams\n",
    "def tokenize_and_extract_bigrams(texts):\n",
    "    bigram_freq = Counter()\n",
    "    author_bigram_freq = defaultdict(Counter)\n",
    "    for author, text in texts.items():\n",
    "        tokens = nltk.word_tokenize(text)\n",
    "        file_bigrams = list(bigrams(tokens))\n",
    "        bigram_freq.update(file_bigrams)\n",
    "        author_bigram_freq[author].update(file_bigrams)\n",
    "    return bigram_freq, author_bigram_freq"
   ]
  },
  {
   "cell_type": "code",
   "execution_count": 23,
   "metadata": {},
   "outputs": [],
   "source": [
    "# calculate statistics\n",
    "def calculate_statistics(bigram_freq, author_bigram_freq):\n",
    "    overall_frequencies = bigram_freq\n",
    "    num_author_samples = Counter()\n",
    "    mean_frequency_per_author = {}\n",
    "    std_dev_frequency = {}\n",
    "\n",
    "    for bigram in bigram_freq:\n",
    "        frequencies = [author_bigram_freq[author][bigram] for author in author_bigram_freq if bigram in author_bigram_freq[author]]\n",
    "        num_author_samples[bigram] = len(frequencies)\n",
    "        mean_frequency_per_author[bigram] = np.mean(frequencies)\n",
    "        std_dev_frequency[bigram] = np.std(frequencies)\n",
    "    \n",
    "    return overall_frequencies, num_author_samples, mean_frequency_per_author, std_dev_frequency"
   ]
  },
  {
   "cell_type": "code",
   "execution_count": 24,
   "metadata": {},
   "outputs": [],
   "source": [
    "# function for process the data\n",
    "def create_dataframe(overall_frequencies, num_author_samples, mean_frequency_per_author, std_dev_frequency):\n",
    "    data = {\n",
    "        'ngram': [f\"{bigram[0]} {bigram[1]}\" for bigram in overall_frequencies],\n",
    "        'f': list(overall_frequencies.values()),\n",
    "        'a': [num_author_samples[bigram] for bigram in overall_frequencies],\n",
    "        'm': [mean_frequency_per_author[bigram] for bigram in overall_frequencies],\n",
    "        'sd': [std_dev_frequency[bigram] for bigram in overall_frequencies]\n",
    "    }\n",
    "    df = pd.DataFrame(data)\n",
    "    return df\n",
    "\n",
    "def save_to_csv(df, filename):\n",
    "    df.to_csv(filename, index=False)\n",
    "    \n",
    "def save_sorted_by_authors(df, sorted_filename):\n",
    "    sorted_df = df.sort_values(by='a', ascending=False)\n",
    "    sorted_df.to_csv(sorted_filename, index=False)\n",
    "    \n",
    "def save_filtered_by_threshold(df, threshold, filtered_filename):\n",
    "    filtered_df = df[df['a'] <= threshold]\n",
    "    sorted_filtered_df = filtered_df.sort_values(by='a', ascending=False)\n",
    "    sorted_filtered_df.to_csv(filtered_filename, index=False)\n"
   ]
  },
  {
   "cell_type": "code",
   "execution_count": 25,
   "metadata": {},
   "outputs": [],
   "source": [
    "def merge_csv_files(directory_or_file):\n",
    "    if os.path.isdir(directory_or_file):\n",
    "        csv_files = [os.path.join(directory_or_file, f) for f in os.listdir(directory_or_file) if f.endswith('.csv')]\n",
    "        df_list = [pd.read_csv(f) for f in csv_files]\n",
    "        merged_df = pd.concat(df_list, ignore_index=True)\n",
    "    else:\n",
    "        merged_df = pd.read_csv(directory_or_file)\n",
    "\n",
    "    return merged_df"
   ]
  },
  {
   "cell_type": "code",
   "execution_count": 26,
   "metadata": {},
   "outputs": [],
   "source": [
    "def compare_file(output_csv_path, user_input_path):\n",
    "    output_df = pd.read_csv(output_csv_path)\n",
    "    user_df = merge_csv_files(user_input_path)\n",
    "    \n",
    "    user_df = user_df[['ngram', 'f', 'a', 'm', 'sd']]\n",
    "    \n",
    "    merged_df = pd.merge(output_df, user_df, on='ngram', suffixes=('_output', '_user'))\n",
    "    \n",
    "    common_bigrams = merged_df[merged_df['a_output'] == merged_df['a_user']]\n",
    "    \n",
    "    author_counts = common_bigrams['a_user'].value_counts()\n",
    "    \n",
    "    most_matched_author = author_counts.idxmax()\n",
    "    most_matched_count = author_counts.max()\n",
    "    \n",
    "    return most_matched_author, most_matched_count"
   ]
  },
  {
   "cell_type": "code",
   "execution_count": 27,
   "metadata": {},
   "outputs": [],
   "source": [
    "def sort_bigrams_by_unique_authors(df, sorted_filename):\n",
    "    sorted_df = df.sort_values(by='a', ascending=False)\n",
    "    sorted_df.to_csv(sorted_filename, index=False)"
   ]
  },
  {
   "cell_type": "code",
   "execution_count": 28,
   "metadata": {},
   "outputs": [],
   "source": [
    "def filter_bigrams_by_author_range(df, u, v, filtered_filename):\n",
    "    filtered_df = df[(df['a'] >= u) & (df['a'] <= v)]\n",
    "    sorted_filtered_df = filtered_df.sort_values(by='a', ascending=False)\n",
    "    sorted_filtered_df.to_csv(filtered_filename, index=False)"
   ]
  },
  {
   "cell_type": "code",
   "execution_count": 29,
   "metadata": {},
   "outputs": [
    {
     "name": "stdout",
     "output_type": "stream",
     "text": [
      "Author with the most matches: 1 (Matches: 6)\n"
     ]
    }
   ],
   "source": [
    "# main function\n",
    "def main(directory, output_file, sorted_output_file, threshold, filtered_output_file, user_input_path, sorted_unique_authors_file, u, v, author_range_file):\n",
    "    texts = read_text_files(directory)\n",
    "    bigram_freq, author_bigram_freq = tokenize_and_extract_bigrams(texts)\n",
    "    overall_frequencies, num_author_samples, mean_frequency_per_author, std_dev_frequency = calculate_statistics(bigram_freq, author_bigram_freq)\n",
    "    df = create_dataframe(overall_frequencies, num_author_samples, mean_frequency_per_author, std_dev_frequency)\n",
    "    save_to_csv(df, output_file)\n",
    "    save_sorted_by_authors(df, sorted_output_file)\n",
    "    save_filtered_by_threshold(df, threshold, filtered_output_file)\n",
    "    \n",
    "    most_matched_author, most_matched_count = compare_file(sorted_output_file, user_input_path)\n",
    "    print(f\"Author with the most matches: {most_matched_author} (Matches: {most_matched_count})\")\n",
    "    \n",
    "    # Sort bigrams by the number of unique authors and save to file\n",
    "    sort_bigrams_by_unique_authors(df, sorted_unique_authors_file)\n",
    "    filter_bigrams_by_author_range(df, u, v, author_range_file)\n",
    "\n",
    "# Directory containing text files\n",
    "directory = 'source'\n",
    "# Output CSV file\n",
    "output_file = 'output.csv'\n",
    "# Sorted output CSV file\n",
    "sorted_output_file = 'output_sorted.csv'\n",
    "# Threshold value for filtering\n",
    "threshold = 5\n",
    "# Filtered output CSV file\n",
    "filtered_output_file = 'output_filtered.csv'\n",
    "# User input path (can be a CSV file or a directory containing CSV files)\n",
    "user_input_path = 'test_inp/'\n",
    "\n",
    "sorted_unique_authors_file = 'bigram_sorted_by_unique_authors.csv'\n",
    "\n",
    "author_range_file = 'bigram_author_range.csv'\n",
    "# Author range (u to v) increment comparison/segmented comparison\n",
    "u = 2\n",
    "v = 5\n",
    "\n",
    "# Run the main function\n",
    "main(directory, output_file, sorted_output_file, threshold, filtered_output_file, user_input_path, sorted_unique_authors_file, u, v, author_range_file)"
   ]
  },
  {
   "cell_type": "code",
   "execution_count": null,
   "metadata": {},
   "outputs": [],
   "source": []
  }
 ],
 "metadata": {
  "kernelspec": {
   "display_name": "bgram",
   "language": "python",
   "name": "python3"
  },
  "language_info": {
   "codemirror_mode": {
    "name": "ipython",
    "version": 3
   },
   "file_extension": ".py",
   "mimetype": "text/x-python",
   "name": "python",
   "nbconvert_exporter": "python",
   "pygments_lexer": "ipython3",
   "version": "3.9.19"
  }
 },
 "nbformat": 4,
 "nbformat_minor": 2
}
